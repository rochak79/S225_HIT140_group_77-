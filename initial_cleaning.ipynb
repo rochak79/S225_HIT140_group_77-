{
 "cells": [
  {
   "cell_type": "code",
   "execution_count": 60,
   "id": "a5b7f89f",
   "metadata": {},
   "outputs": [
    {
     "name": "stdout",
     "output_type": "stream",
     "text": [
      "Dataset 1 head:\n"
     ]
    },
    {
     "data": {
      "text/html": [
       "<div>\n",
       "<style scoped>\n",
       "    .dataframe tbody tr th:only-of-type {\n",
       "        vertical-align: middle;\n",
       "    }\n",
       "\n",
       "    .dataframe tbody tr th {\n",
       "        vertical-align: top;\n",
       "    }\n",
       "\n",
       "    .dataframe thead th {\n",
       "        text-align: right;\n",
       "    }\n",
       "</style>\n",
       "<table border=\"1\" class=\"dataframe\">\n",
       "  <thead>\n",
       "    <tr style=\"text-align: right;\">\n",
       "      <th></th>\n",
       "      <th>start_time</th>\n",
       "      <th>bat_landing_to_food</th>\n",
       "      <th>habit</th>\n",
       "      <th>rat_period_start</th>\n",
       "      <th>rat_period_end</th>\n",
       "      <th>seconds_after_rat_arrival</th>\n",
       "      <th>risk</th>\n",
       "      <th>reward</th>\n",
       "      <th>month</th>\n",
       "      <th>sunset_time</th>\n",
       "      <th>hours_after_sunset</th>\n",
       "      <th>season</th>\n",
       "    </tr>\n",
       "  </thead>\n",
       "  <tbody>\n",
       "    <tr>\n",
       "      <th>0</th>\n",
       "      <td>30/12/2017 18:37</td>\n",
       "      <td>16.000000</td>\n",
       "      <td>rat</td>\n",
       "      <td>30/12/2017 18:35</td>\n",
       "      <td>30/12/2017 18:38</td>\n",
       "      <td>108</td>\n",
       "      <td>1</td>\n",
       "      <td>0</td>\n",
       "      <td>0</td>\n",
       "      <td>30/12/2017 16:45</td>\n",
       "      <td>1.870833</td>\n",
       "      <td>0</td>\n",
       "    </tr>\n",
       "    <tr>\n",
       "      <th>1</th>\n",
       "      <td>30/12/2017 19:51</td>\n",
       "      <td>0.074016</td>\n",
       "      <td>fast</td>\n",
       "      <td>30/12/2017 19:50</td>\n",
       "      <td>30/12/2017 19:55</td>\n",
       "      <td>17</td>\n",
       "      <td>0</td>\n",
       "      <td>1</td>\n",
       "      <td>0</td>\n",
       "      <td>30/12/2017 16:45</td>\n",
       "      <td>3.100833</td>\n",
       "      <td>0</td>\n",
       "    </tr>\n",
       "    <tr>\n",
       "      <th>2</th>\n",
       "      <td>30/12/2017 19:51</td>\n",
       "      <td>4.000000</td>\n",
       "      <td>fast</td>\n",
       "      <td>30/12/2017 19:50</td>\n",
       "      <td>30/12/2017 19:55</td>\n",
       "      <td>41</td>\n",
       "      <td>0</td>\n",
       "      <td>1</td>\n",
       "      <td>0</td>\n",
       "      <td>30/12/2017 16:45</td>\n",
       "      <td>3.107500</td>\n",
       "      <td>0</td>\n",
       "    </tr>\n",
       "    <tr>\n",
       "      <th>3</th>\n",
       "      <td>30/12/2017 19:52</td>\n",
       "      <td>10.000000</td>\n",
       "      <td>rat</td>\n",
       "      <td>30/12/2017 19:50</td>\n",
       "      <td>30/12/2017 19:55</td>\n",
       "      <td>111</td>\n",
       "      <td>1</td>\n",
       "      <td>0</td>\n",
       "      <td>0</td>\n",
       "      <td>30/12/2017 16:45</td>\n",
       "      <td>3.126944</td>\n",
       "      <td>0</td>\n",
       "    </tr>\n",
       "    <tr>\n",
       "      <th>4</th>\n",
       "      <td>30/12/2017 19:54</td>\n",
       "      <td>15.000000</td>\n",
       "      <td>rat</td>\n",
       "      <td>30/12/2017 19:50</td>\n",
       "      <td>30/12/2017 19:55</td>\n",
       "      <td>194</td>\n",
       "      <td>1</td>\n",
       "      <td>0</td>\n",
       "      <td>0</td>\n",
       "      <td>30/12/2017 16:45</td>\n",
       "      <td>3.150000</td>\n",
       "      <td>0</td>\n",
       "    </tr>\n",
       "  </tbody>\n",
       "</table>\n",
       "</div>"
      ],
      "text/plain": [
       "         start_time  bat_landing_to_food habit  rat_period_start  \\\n",
       "0  30/12/2017 18:37            16.000000   rat  30/12/2017 18:35   \n",
       "1  30/12/2017 19:51             0.074016  fast  30/12/2017 19:50   \n",
       "2  30/12/2017 19:51             4.000000  fast  30/12/2017 19:50   \n",
       "3  30/12/2017 19:52            10.000000   rat  30/12/2017 19:50   \n",
       "4  30/12/2017 19:54            15.000000   rat  30/12/2017 19:50   \n",
       "\n",
       "     rat_period_end  seconds_after_rat_arrival  risk  reward  month  \\\n",
       "0  30/12/2017 18:38                        108     1       0      0   \n",
       "1  30/12/2017 19:55                         17     0       1      0   \n",
       "2  30/12/2017 19:55                         41     0       1      0   \n",
       "3  30/12/2017 19:55                        111     1       0      0   \n",
       "4  30/12/2017 19:55                        194     1       0      0   \n",
       "\n",
       "        sunset_time  hours_after_sunset  season  \n",
       "0  30/12/2017 16:45            1.870833       0  \n",
       "1  30/12/2017 16:45            3.100833       0  \n",
       "2  30/12/2017 16:45            3.107500       0  \n",
       "3  30/12/2017 16:45            3.126944       0  \n",
       "4  30/12/2017 16:45            3.150000       0  "
      ]
     },
     "metadata": {},
     "output_type": "display_data"
    },
    {
     "name": "stdout",
     "output_type": "stream",
     "text": [
      "Dataset 2 head:\n"
     ]
    },
    {
     "data": {
      "text/html": [
       "<div>\n",
       "<style scoped>\n",
       "    .dataframe tbody tr th:only-of-type {\n",
       "        vertical-align: middle;\n",
       "    }\n",
       "\n",
       "    .dataframe tbody tr th {\n",
       "        vertical-align: top;\n",
       "    }\n",
       "\n",
       "    .dataframe thead th {\n",
       "        text-align: right;\n",
       "    }\n",
       "</style>\n",
       "<table border=\"1\" class=\"dataframe\">\n",
       "  <thead>\n",
       "    <tr style=\"text-align: right;\">\n",
       "      <th></th>\n",
       "      <th>time</th>\n",
       "      <th>month</th>\n",
       "      <th>hours_after_sunset</th>\n",
       "      <th>bat_landing_number</th>\n",
       "      <th>food_availability</th>\n",
       "      <th>rat_minutes</th>\n",
       "      <th>rat_arrival_number</th>\n",
       "    </tr>\n",
       "  </thead>\n",
       "  <tbody>\n",
       "    <tr>\n",
       "      <th>0</th>\n",
       "      <td>26/12/2017 16:13</td>\n",
       "      <td>0</td>\n",
       "      <td>-0.5</td>\n",
       "      <td>20</td>\n",
       "      <td>4.000000</td>\n",
       "      <td>0.0</td>\n",
       "      <td>0</td>\n",
       "    </tr>\n",
       "    <tr>\n",
       "      <th>1</th>\n",
       "      <td>26/12/2017 16:43</td>\n",
       "      <td>0</td>\n",
       "      <td>0.0</td>\n",
       "      <td>28</td>\n",
       "      <td>4.000000</td>\n",
       "      <td>0.0</td>\n",
       "      <td>0</td>\n",
       "    </tr>\n",
       "    <tr>\n",
       "      <th>2</th>\n",
       "      <td>26/12/2017 17:13</td>\n",
       "      <td>0</td>\n",
       "      <td>0.5</td>\n",
       "      <td>25</td>\n",
       "      <td>4.000000</td>\n",
       "      <td>0.0</td>\n",
       "      <td>0</td>\n",
       "    </tr>\n",
       "    <tr>\n",
       "      <th>3</th>\n",
       "      <td>26/12/2017 17:43</td>\n",
       "      <td>0</td>\n",
       "      <td>1.0</td>\n",
       "      <td>71</td>\n",
       "      <td>4.000000</td>\n",
       "      <td>0.0</td>\n",
       "      <td>0</td>\n",
       "    </tr>\n",
       "    <tr>\n",
       "      <th>4</th>\n",
       "      <td>26/12/2017 18:13</td>\n",
       "      <td>0</td>\n",
       "      <td>1.5</td>\n",
       "      <td>44</td>\n",
       "      <td>3.753857</td>\n",
       "      <td>0.0</td>\n",
       "      <td>0</td>\n",
       "    </tr>\n",
       "  </tbody>\n",
       "</table>\n",
       "</div>"
      ],
      "text/plain": [
       "               time  month  hours_after_sunset  bat_landing_number  \\\n",
       "0  26/12/2017 16:13      0                -0.5                  20   \n",
       "1  26/12/2017 16:43      0                 0.0                  28   \n",
       "2  26/12/2017 17:13      0                 0.5                  25   \n",
       "3  26/12/2017 17:43      0                 1.0                  71   \n",
       "4  26/12/2017 18:13      0                 1.5                  44   \n",
       "\n",
       "   food_availability  rat_minutes  rat_arrival_number  \n",
       "0           4.000000          0.0                   0  \n",
       "1           4.000000          0.0                   0  \n",
       "2           4.000000          0.0                   0  \n",
       "3           4.000000          0.0                   0  \n",
       "4           3.753857          0.0                   0  "
      ]
     },
     "metadata": {},
     "output_type": "display_data"
    }
   ],
   "source": [
    "import pandas as pd\n",
    "import numpy as np\n",
    "\n",
    "# Load datasets\n",
    "df1 = pd.read_csv(\"Raw/dataset1.csv\")\n",
    "df2 = pd.read_csv(\"Raw/dataset2.csv\")\n",
    "\n",
    "# Preview\n",
    "print(\"Dataset 1 head:\")\n",
    "display(df1.head())\n",
    "print(\"Dataset 2 head:\")\n",
    "display(df2.head())\n"
   ]
  },
  {
   "cell_type": "code",
   "execution_count": 61,
   "id": "85152a3b-cb36-41b1-a52a-7a0ef1210fa1",
   "metadata": {},
   "outputs": [
    {
     "name": "stdout",
     "output_type": "stream",
     "text": [
      "=== INITIAL DATA ASSESSMENT ===\n",
      "Dataset 1: 907 rows, 12 columns\n",
      "Dataset 2: 2123 rows, 7 columns\n",
      "\n",
      "Missing values - Dataset 1: 41\n",
      "Missing values - Dataset 2: 0\n",
      "\n",
      "Duplicates - Dataset 1: 1\n",
      "Duplicates - Dataset 2: 0\n"
     ]
    }
   ],
   "source": [
    "\n",
    "# DATA QUALITY ASSESSMENT\n",
    "print(\"=== INITIAL DATA ASSESSMENT ===\")\n",
    "print(f\"Dataset 1: {df1.shape[0]} rows, {df1.shape[1]} columns\")\n",
    "print(f\"Dataset 2: {df2.shape[0]} rows, {df2.shape[1]} columns\")\n",
    "\n",
    "# Store original metrics for comparison\n",
    "original_df1_shape = df1.shape\n",
    "original_df2_shape = df2.shape\n",
    "original_df1_nulls = df1.isnull().sum().sum()\n",
    "original_df2_nulls = df2.isnull().sum().sum()\n",
    "\n",
    "print(f\"\\nMissing values - Dataset 1: {original_df1_nulls}\")\n",
    "print(f\"Missing values - Dataset 2: {original_df2_nulls}\")\n",
    "\n",
    "print(f\"\\nDuplicates - Dataset 1: {df1.duplicated().sum()}\")\n",
    "print(f\"Duplicates - Dataset 2: {df2.duplicated().sum()}\")"
   ]
  },
  {
   "cell_type": "code",
   "execution_count": 62,
   "id": "6ab7fc6d",
   "metadata": {},
   "outputs": [],
   "source": [
    "def clean_columns(df):\n",
    "    df.columns = (\n",
    "        df.columns.astype(str)\n",
    "                  .str.strip()\n",
    "                  .str.lower()\n",
    "                  .str.replace(r\"[^\\w\\s]\", \"\", regex=True)\n",
    "                  .str.replace(r\"\\s+\", \"_\", regex=True)\n",
    "    )\n",
    "    return df\n",
    "\n",
    "df1 = clean_columns(df1)\n",
    "df2 = clean_columns(df2)\n"
   ]
  },
  {
   "cell_type": "code",
   "execution_count": 63,
   "id": "f8e90033",
   "metadata": {},
   "outputs": [],
   "source": [
    "for col in df1.select_dtypes(include=\"object\").columns:\n",
    "    df1[col] = df1[col].astype(str).str.strip()\n",
    "\n",
    "for col in df2.select_dtypes(include=\"object\").columns:\n",
    "    df2[col] = df2[col].astype(str).str.strip()\n",
    "\n",
    "    "
   ]
  },
  {
   "cell_type": "code",
   "execution_count": 64,
   "id": "02c5e2a8",
   "metadata": {},
   "outputs": [],
   "source": [
    "# Date conversion\n",
    "# Dataset1\n",
    "for col in [\"start_time\",\"rat_period_start\",\"rat_period_end\",\"sunset_time\"]:\n",
    "    if col in df1.columns:\n",
    "        df1[col] = pd.to_datetime(df1[col], errors=\"coerce\", dayfirst=True)\n",
    "\n",
    "# Dataset2\n",
    "if \"time\" in df2.columns:\n",
    "    df2[\"time\"] = pd.to_datetime(df2[\"time\"], errors=\"coerce\", dayfirst=True)\n"
   ]
  },
  {
   "cell_type": "code",
   "execution_count": 65,
   "id": "07edf9e9",
   "metadata": {},
   "outputs": [],
   "source": [
    "# Numeric conversion\n",
    "# Dataset1 numeric columns\n",
    "for col in [\"bat_landing_to_food\",\"seconds_after_rat_arrival\",\"risk\",\"reward\",\"hours_after_sunset\"]:\n",
    "    if col in df1.columns:\n",
    "        df1[col] = pd.to_numeric(df1[col], errors=\"coerce\")\n",
    "\n",
    "# Dataset2 numeric columns\n",
    "for col in [\"hours_after_sunset\",\"bat_landing_number\",\"food_availability\",\"rat_minutes\",\"rat_arrival_number\"]:\n",
    "    if col in df2.columns:\n",
    "        df2[col] = pd.to_numeric(df2[col], errors=\"coerce\")\n",
    "\n",
    "        "
   ]
  },
  {
   "cell_type": "code",
   "execution_count": 66,
   "id": "6f3f4a53",
   "metadata": {},
   "outputs": [],
   "source": [
    "# Remove duplicates\n",
    "df1 = df1.drop_duplicates().reset_index(drop=True)\n",
    "df2 = df2.drop_duplicates().reset_index(drop=True)\n",
    "\n"
   ]
  },
  {
   "cell_type": "code",
   "execution_count": 67,
   "id": "865937e5-bf2d-4bc4-a5e2-2b9df28bc36d",
   "metadata": {},
   "outputs": [
    {
     "name": "stdout",
     "output_type": "stream",
     "text": [
      "=== CONSISTENCY CHECKS ===\n",
      "Bat arrivals before rat period starts: 0\n",
      "Records with both risk=1 AND reward=1: 98\n",
      "Negative hours_after_sunset - Dataset 1: 12, Dataset 2: 212\n"
     ]
    }
   ],
   "source": [
    "# DATA CONSISTENCY VALIDATION\n",
    "print(\"=== CONSISTENCY CHECKS ===\")\n",
    "\n",
    "# Check date logic in Dataset 1\n",
    "if 'start_time' in df1.columns and 'rat_period_start' in df1.columns:\n",
    "    date_issues = df1[df1['start_time'] < df1['rat_period_start']].shape[0]\n",
    "    print(f\"Bat arrivals before rat period starts: {date_issues}\")\n",
    "\n",
    "# Check risk/reward exclusivity\n",
    "if 'risk' in df1.columns and 'reward' in df1.columns:\n",
    "    both_risk_reward = df1[(df1['risk'] == 1) & (df1['reward'] == 1)].shape[0]\n",
    "    print(f\"Records with both risk=1 AND reward=1: {both_risk_reward}\")\n",
    "\n",
    "# Check hours_after_sunset consistency\n",
    "negative_hours_df1 = df1[df1['hours_after_sunset'] < 0].shape[0] if 'hours_after_sunset' in df1.columns else 0\n",
    "negative_hours_df2 = df2[df2['hours_after_sunset'] < 0].shape[0] if 'hours_after_sunset' in df2.columns else 0\n",
    "print(f\"Negative hours_after_sunset - Dataset 1: {negative_hours_df1}, Dataset 2: {negative_hours_df2}\")"
   ]
  },
  {
   "cell_type": "code",
   "execution_count": 68,
   "id": "f00ce249",
   "metadata": {},
   "outputs": [],
   "source": [
    "# Data validation rules\n",
    "# Risk / Reward must be 0 or 1\n",
    "for col in [\"risk\",\"reward\"]:\n",
    "    if col in df1.columns:\n",
    "        df1.loc[~df1[col].isin([0,1]), col] = np.nan\n",
    "\n",
    "# Remove negative values\n",
    "for col in [\"bat_landing_to_food\",\"seconds_after_rat_arrival\",\"hours_after_sunset\"]:\n",
    "    if col in df1.columns:\n",
    "        df1.loc[df1[col] < 0, col] = np.nan\n",
    "\n",
    "for col in [\"hours_after_sunset\",\"rat_minutes\"]:\n",
    "    if col in df2.columns:\n",
    "        df2.loc[df2[col] < 0, col] = np.nan\n",
    "\n",
    "# Cap hours_after_sunset to 24h\n",
    "for df in [df1, df2]:\n",
    "    if \"hours_after_sunset\" in df.columns:\n",
    "        df.loc[df[\"hours_after_sunset\"] > 24, \"hours_after_sunset\"] = np.nan\n",
    "\n",
    "        \n",
    "        "
   ]
  },
  {
   "cell_type": "code",
   "execution_count": 69,
   "id": "b65db464-f755-45e4-804e-bc55c7dc5d3f",
   "metadata": {},
   "outputs": [
    {
     "name": "stdout",
     "output_type": "stream",
     "text": [
      "=== OUTLIER ANALYSIS ===\n",
      "bat_landing_to_food: 88 outliers detected (bounds: -15.12 - 27.88)\n",
      "  - 12 extreme outliers beyond 2*IQR\n",
      "seconds_after_rat_arrival: 0 outliers detected (bounds: -447.75 - 984.25)\n",
      "hours_after_sunset: 0 outliers detected (bounds: -1.59 - 12.83)\n"
     ]
    }
   ],
   "source": [
    "# OUTLIER DETECTION\n",
    "def detect_outliers_iqr(df, column):\n",
    "    \"\"\"Detect outliers using IQR method\"\"\"\n",
    "    Q1 = df[column].quantile(0.25)\n",
    "    Q3 = df[column].quantile(0.75)\n",
    "    IQR = Q3 - Q1\n",
    "    lower_bound = Q1 - 1.5 * IQR\n",
    "    upper_bound = Q3 + 1.5 * IQR\n",
    "    outliers = df[(df[column] < lower_bound) | (df[column] > upper_bound)]\n",
    "    return outliers, lower_bound, upper_bound\n",
    "\n",
    "print(\"=== OUTLIER ANALYSIS ===\")\n",
    "outlier_columns = ['bat_landing_to_food', 'seconds_after_rat_arrival', 'hours_after_sunset']\n",
    "\n",
    "for col in outlier_columns:\n",
    "    if col in df1.columns:\n",
    "        outliers, lower, upper = detect_outliers_iqr(df1, col)\n",
    "        print(f\"{col}: {len(outliers)} outliers detected (bounds: {lower:.2f} - {upper:.2f})\")\n",
    "        # Optionally cap extreme outliers\n",
    "        extreme_outliers = len(df1[df1[col] > upper + 2*(upper-lower)])\n",
    "        if extreme_outliers > 0:\n",
    "            print(f\"  - {extreme_outliers} extreme outliers beyond 2*IQR\")"
   ]
  },
  {
   "cell_type": "code",
   "execution_count": 70,
   "id": "f8a9dec0-e294-4f49-9984-d9b239a30fd9",
   "metadata": {},
   "outputs": [
    {
     "name": "stdout",
     "output_type": "stream",
     "text": [
      "=== CLEANING SUMMARY REPORT ===\n",
      "Dataset 1:\n",
      "  Rows: 907 → 906 (removed: 1)\n",
      "  Missing values: 41 → 12 (change: -29)\n",
      "\n",
      "Dataset 2:\n",
      "  Rows: 2123 → 2123 (removed: 0)\n",
      "  Missing values: 0 → 212 (change: 212)\n"
     ]
    }
   ],
   "source": [
    "# CLEANING IMPACT SUMMARY\n",
    "final_df1_shape = df1.shape\n",
    "final_df2_shape = df2.shape\n",
    "final_df1_nulls = df1.isnull().sum().sum()\n",
    "final_df2_nulls = df2.isnull().sum().sum()\n",
    "\n",
    "print(\"=== CLEANING SUMMARY REPORT ===\")\n",
    "print(f\"Dataset 1:\")\n",
    "print(f\"  Rows: {original_df1_shape[0]} → {final_df1_shape[0]} (removed: {original_df1_shape[0] - final_df1_shape[0]})\")\n",
    "print(f\"  Missing values: {original_df1_nulls} → {final_df1_nulls} (change: {final_df1_nulls - original_df1_nulls})\")\n",
    "\n",
    "print(f\"\\nDataset 2:\")\n",
    "print(f\"  Rows: {original_df2_shape[0]} → {final_df2_shape[0]} (removed: {original_df2_shape[0] - final_df2_shape[0]})\")\n",
    "print(f\"  Missing values: {original_df2_nulls} → {final_df2_nulls} (change: {final_df2_nulls - original_df2_nulls})\")"
   ]
  },
  {
   "cell_type": "code",
   "execution_count": 71,
   "id": "4b2c386d-d98a-455a-b025-008a2cc2d1b6",
   "metadata": {},
   "outputs": [
    {
     "name": "stdout",
     "output_type": "stream",
     "text": [
      "\n",
      "Data Completeness Scores:\n",
      "  Dataset 1: 99.9%\n",
      "  Dataset 2: 98.6%\n"
     ]
    }
   ],
   "source": [
    "# Data quality score\n",
    "completeness_df1 = 1 - (final_df1_nulls / (final_df1_shape[0] * final_df1_shape[1]))\n",
    "completeness_df2 = 1 - (final_df2_nulls / (final_df2_shape[0] * final_df2_shape[1]))\n",
    "\n",
    "print(f\"\\nData Completeness Scores:\")\n",
    "print(f\"  Dataset 1: {completeness_df1:.1%}\")\n",
    "print(f\"  Dataset 2: {completeness_df2:.1%}\")"
   ]
  },
  {
   "cell_type": "code",
   "execution_count": 72,
   "id": "723e802d",
   "metadata": {},
   "outputs": [
    {
     "name": "stdout",
     "output_type": "stream",
     "text": [
      "Cleaning done. Files saved as dataset1_clean.csv and dataset2_clean.csv\n"
     ]
    }
   ],
   "source": [
    "# Save cleaned datasets\n",
    "df1.to_csv(\"dataset1_clean.csv\", index=False)\n",
    "df2.to_csv(\"dataset2_clean.csv\", index=False)\n",
    "\n",
    "print(\"Cleaning done. Files saved as dataset1_clean.csv and dataset2_clean.csv\")\n",
    "\n"
   ]
  },
  {
   "cell_type": "code",
   "execution_count": 73,
   "id": "70295f01",
   "metadata": {},
   "outputs": [
    {
     "name": "stdout",
     "output_type": "stream",
     "text": [
      "=== FINAL VALIDATION CHECKS ===\n",
      "           start_time  bat_landing_to_food habit    rat_period_start  \\\n",
      "0 2017-12-30 18:37:00            16.000000   rat 2017-12-30 18:35:00   \n",
      "1 2017-12-30 19:51:00             0.074016  fast 2017-12-30 19:50:00   \n",
      "2 2017-12-30 19:51:00             4.000000  fast 2017-12-30 19:50:00   \n",
      "3 2017-12-30 19:52:00            10.000000   rat 2017-12-30 19:50:00   \n",
      "4 2017-12-30 19:54:00            15.000000   rat 2017-12-30 19:50:00   \n",
      "\n",
      "       rat_period_end  seconds_after_rat_arrival  risk  reward  month  \\\n",
      "0 2017-12-30 18:38:00                      108.0   1.0     0.0      0   \n",
      "1 2017-12-30 19:55:00                       17.0   0.0     1.0      0   \n",
      "2 2017-12-30 19:55:00                       41.0   0.0     1.0      0   \n",
      "3 2017-12-30 19:55:00                      111.0   1.0     0.0      0   \n",
      "4 2017-12-30 19:55:00                      194.0   1.0     0.0      0   \n",
      "\n",
      "          sunset_time  hours_after_sunset  season  \n",
      "0 2017-12-30 16:45:00            1.870833       0  \n",
      "1 2017-12-30 16:45:00            3.100833       0  \n",
      "2 2017-12-30 16:45:00            3.107500       0  \n",
      "3 2017-12-30 16:45:00            3.126944       0  \n",
      "4 2017-12-30 16:45:00            3.150000       0  \n",
      "                 time  month  hours_after_sunset  bat_landing_number  \\\n",
      "0 2017-12-26 16:13:00      0                 NaN                  20   \n",
      "1 2017-12-26 16:43:00      0                 0.0                  28   \n",
      "2 2017-12-26 17:13:00      0                 0.5                  25   \n",
      "3 2017-12-26 17:43:00      0                 1.0                  71   \n",
      "4 2017-12-26 18:13:00      0                 1.5                  44   \n",
      "\n",
      "   food_availability  rat_minutes  rat_arrival_number  \n",
      "0           4.000000          0.0                   0  \n",
      "1           4.000000          0.0                   0  \n",
      "2           4.000000          0.0                   0  \n",
      "3           4.000000          0.0                   0  \n",
      "4           3.753857          0.0                   0  \n"
     ]
    }
   ],
   "source": [
    "# FINAL DATA VALIDATION\n",
    "\n",
    "print(\"=== FINAL VALIDATION CHECKS ===\")\n",
    "\n",
    "# Load and preview cleaned data\n",
    "cleaned_df1 = pd.read_csv(\"dataset1_clean.csv\")\n",
    "cleaned_df2 = pd.read_csv(\"dataset2_clean.csv\")\n",
    "print(df1.head())   # first 5 rows of dataset1_clean\n",
    "print(df2.head())   # first 5 rows of dataset2_clean"
   ]
  },
  {
   "cell_type": "code",
   "execution_count": 74,
   "id": "67a4f7c6-3790-48e5-af02-caa4a64b2091",
   "metadata": {},
   "outputs": [],
   "source": [
    "# Basic integrity checks\n",
    "assert cleaned_df1.shape[0] > 0, \"Dataset 1 cannot be empty\"\n",
    "assert cleaned_df2.shape[0] > 0, \"Dataset 2 cannot be empty\""
   ]
  },
  {
   "cell_type": "code",
   "execution_count": 75,
   "id": "069c70b5-4925-4da7-8379-eb0644fe421d",
   "metadata": {},
   "outputs": [
    {
     "name": "stdout",
     "output_type": "stream",
     "text": [
      "Object columns in Dataset 1: ['start_time', 'habit', 'rat_period_start', 'rat_period_end', 'sunset_time']\n"
     ]
    }
   ],
   "source": [
    "# Check data types\n",
    "object_cols_df1 = cleaned_df1.select_dtypes(include=['object']).columns.tolist()\n",
    "print(f\"Object columns in Dataset 1: {object_cols_df1}\")"
   ]
  },
  {
   "cell_type": "code",
   "execution_count": 76,
   "id": "49be0088-9d01-4eda-b5a4-062c78a8add1",
   "metadata": {},
   "outputs": [
    {
     "name": "stdout",
     "output_type": "stream",
     "text": [
      "✓ habit column present in dataset\n",
      "✓ Hours after sunset within valid range\n"
     ]
    }
   ],
   "source": [
    "# Flexible validation - check that expected columns exist\n",
    "expected_categorical = ['habit']\n",
    "for col in expected_categorical:\n",
    "    if col in cleaned_df1.columns:\n",
    "        print(f\"✓ {col} column present in dataset\")\n",
    "    else:\n",
    "        print(f\"⚠ {col} column missing from dataset\")\n",
    "\n",
    "# Value range checks\n",
    "if 'hours_after_sunset' in test_df1.columns:\n",
    "    max_hours = cleaned_df1['hours_after_sunset'].max()\n",
    "    if pd.notna(max_hours) and max_hours <= 24:\n",
    "        print(\"✓ Hours after sunset within valid range\")\n",
    "    else:\n",
    "        print(f\"⚠ Max hours after sunset: {max_hours}\")"
   ]
  },
  {
   "cell_type": "code",
   "execution_count": 77,
   "id": "52c14532-e7e9-4aed-8e3c-07106c09e52a",
   "metadata": {},
   "outputs": [
    {
     "name": "stdout",
     "output_type": "stream",
     "text": [
      "✓ Risk values valid: True\n",
      "✓ Reward values valid: True\n",
      "All validation checks completed!\n",
      "Data is ready for Visualization and Analysis\n"
     ]
    }
   ],
   "source": [
    "# Risk/reward validation\n",
    "if 'risk' in cleaned_df1.columns:\n",
    "    valid_risk = cleaned_df1['risk'].dropna().isin([0, 1]).all()\n",
    "    print(f\"✓ Risk values valid: {valid_risk}\")\n",
    "\n",
    "if 'reward' in cleaned_df1.columns:\n",
    "    valid_reward = cleaned_df1['reward'].dropna().isin([0, 1]).all()\n",
    "    print(f\"✓ Reward values valid: {valid_reward}\")\n",
    "\n",
    "print(\"All validation checks completed!\")\n",
    "print(\"Data is ready for Visualization and Analysis\")"
   ]
  },
  {
   "cell_type": "code",
   "execution_count": 78,
   "id": "ccf1cb55-0b6b-4cc3-9e6d-77bf06ee78fb",
   "metadata": {},
   "outputs": [
    {
     "data": {
      "text/html": [
       "<div>\n",
       "<style scoped>\n",
       "    .dataframe tbody tr th:only-of-type {\n",
       "        vertical-align: middle;\n",
       "    }\n",
       "\n",
       "    .dataframe tbody tr th {\n",
       "        vertical-align: top;\n",
       "    }\n",
       "\n",
       "    .dataframe thead th {\n",
       "        text-align: right;\n",
       "    }\n",
       "</style>\n",
       "<table border=\"1\" class=\"dataframe\">\n",
       "  <thead>\n",
       "    <tr style=\"text-align: right;\">\n",
       "      <th></th>\n",
       "      <th>time</th>\n",
       "      <th>month</th>\n",
       "      <th>hours_after_sunset</th>\n",
       "      <th>bat_landing_number</th>\n",
       "      <th>food_availability</th>\n",
       "      <th>rat_minutes</th>\n",
       "      <th>rat_arrival_number</th>\n",
       "    </tr>\n",
       "  </thead>\n",
       "  <tbody>\n",
       "    <tr>\n",
       "      <th>0</th>\n",
       "      <td>2017-12-26 16:13:00</td>\n",
       "      <td>0</td>\n",
       "      <td>NaN</td>\n",
       "      <td>20</td>\n",
       "      <td>4.000000</td>\n",
       "      <td>0.0</td>\n",
       "      <td>0</td>\n",
       "    </tr>\n",
       "    <tr>\n",
       "      <th>1</th>\n",
       "      <td>2017-12-26 16:43:00</td>\n",
       "      <td>0</td>\n",
       "      <td>0.0</td>\n",
       "      <td>28</td>\n",
       "      <td>4.000000</td>\n",
       "      <td>0.0</td>\n",
       "      <td>0</td>\n",
       "    </tr>\n",
       "    <tr>\n",
       "      <th>2</th>\n",
       "      <td>2017-12-26 17:13:00</td>\n",
       "      <td>0</td>\n",
       "      <td>0.5</td>\n",
       "      <td>25</td>\n",
       "      <td>4.000000</td>\n",
       "      <td>0.0</td>\n",
       "      <td>0</td>\n",
       "    </tr>\n",
       "    <tr>\n",
       "      <th>3</th>\n",
       "      <td>2017-12-26 17:43:00</td>\n",
       "      <td>0</td>\n",
       "      <td>1.0</td>\n",
       "      <td>71</td>\n",
       "      <td>4.000000</td>\n",
       "      <td>0.0</td>\n",
       "      <td>0</td>\n",
       "    </tr>\n",
       "    <tr>\n",
       "      <th>4</th>\n",
       "      <td>2017-12-26 18:13:00</td>\n",
       "      <td>0</td>\n",
       "      <td>1.5</td>\n",
       "      <td>44</td>\n",
       "      <td>3.753857</td>\n",
       "      <td>0.0</td>\n",
       "      <td>0</td>\n",
       "    </tr>\n",
       "  </tbody>\n",
       "</table>\n",
       "</div>"
      ],
      "text/plain": [
       "                 time  month  hours_after_sunset  bat_landing_number  \\\n",
       "0 2017-12-26 16:13:00      0                 NaN                  20   \n",
       "1 2017-12-26 16:43:00      0                 0.0                  28   \n",
       "2 2017-12-26 17:13:00      0                 0.5                  25   \n",
       "3 2017-12-26 17:43:00      0                 1.0                  71   \n",
       "4 2017-12-26 18:13:00      0                 1.5                  44   \n",
       "\n",
       "   food_availability  rat_minutes  rat_arrival_number  \n",
       "0           4.000000          0.0                   0  \n",
       "1           4.000000          0.0                   0  \n",
       "2           4.000000          0.0                   0  \n",
       "3           4.000000          0.0                   0  \n",
       "4           3.753857          0.0                   0  "
      ]
     },
     "execution_count": 78,
     "metadata": {},
     "output_type": "execute_result"
    }
   ],
   "source": [
    "df1.head()\n",
    "df2.head()"
   ]
  }
 ],
 "metadata": {
  "kernelspec": {
   "display_name": "Python [conda env:hit140env]",
   "language": "python",
   "name": "conda-env-hit140env-py"
  },
  "language_info": {
   "codemirror_mode": {
    "name": "ipython",
    "version": 3
   },
   "file_extension": ".py",
   "mimetype": "text/x-python",
   "name": "python",
   "nbconvert_exporter": "python",
   "pygments_lexer": "ipython3",
   "version": "3.13.5"
  }
 },
 "nbformat": 4,
 "nbformat_minor": 5
}
